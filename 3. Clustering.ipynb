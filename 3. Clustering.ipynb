{
 "cells": [
  {
   "cell_type": "code",
   "execution_count": 1,
   "metadata": {},
   "outputs": [],
   "source": [
    "from Scripts.user_analysis import user\n",
    "from Scripts.choose_random_user import randUsr\n",
    "from matplotlib import pyplot as plt\n",
    "import os\n",
    "import pandas as pd\n",
    "import random\n"
   ]
  },
  {
   "cell_type": "code",
   "execution_count": 2,
   "metadata": {},
   "outputs": [],
   "source": [
    "#thedir = '/Users/okkevanderwal/Downloads/Geolife Trajectories 1.3/Data'\n",
    "thedir = '.../Geolife Trajectories 1.3/Data'\n",
    "dirs = [name for name in os.listdir(thedir) if os.path.isdir(os.path.join(thedir, name))]"
   ]
  },
  {
   "cell_type": "code",
   "execution_count": 1,
   "metadata": {},
   "outputs": [],
   "source": [
    "def clustering(root):    \n",
    "    dirs = [name for name in os.listdir(root) if os.path.isdir(os.path.join(root, name))]\n",
    "    for x in dirs: \n",
    "        id_user = dirs[int(x)]\n",
    "        path = str(root + '/' + dirs[int(x)])\n",
    "        \n",
    "        user_x = user(path)\n",
    "        array = user_x.clusterLocs()\n",
    "        cluster_mean = array.mean()        \n",
    "        dict_cluster = {id_user:cluster_mean}\n",
    "        \n",
    "        print(dict_cluster)\n",
    "        \n",
    "clustering(thedir)"
   ]
  },
  {
   "cell_type": "code",
   "execution_count": null,
   "metadata": {},
   "outputs": [],
   "source": [
    "df_cluster = pd.DataFrame(dict_cluster)"
   ]
  },
  {
   "cell_type": "code",
   "execution_count": null,
   "metadata": {},
   "outputs": [],
   "source": [
    "df.to_csv('Final_CSV/Clusters.csv')"
   ]
  }
 ],
 "metadata": {
  "kernelspec": {
   "display_name": "Python 3",
   "language": "python",
   "name": "python3"
  },
  "language_info": {
   "codemirror_mode": {
    "name": "ipython",
    "version": 3
   },
   "file_extension": ".py",
   "mimetype": "text/x-python",
   "name": "python",
   "nbconvert_exporter": "python",
   "pygments_lexer": "ipython3",
   "version": "3.6.5"
  }
 },
 "nbformat": 4,
 "nbformat_minor": 2
}
