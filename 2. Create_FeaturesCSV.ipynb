{
 "cells": [
  {
   "cell_type": "code",
   "execution_count": null,
   "metadata": {},
   "outputs": [],
   "source": [
    "#Modules\n",
    "\n",
    "%matplotlib inline\n",
    "\n",
    "import csv, os, sys\n",
    "import pandas as pd\n",
    "import numpy as np\n",
    "import matplotlib.pyplot as plt\n",
    "import math"
   ]
  },
  {
   "cell_type": "code",
   "execution_count": null,
   "metadata": {},
   "outputs": [],
   "source": [
    "#Sys\n",
    "\n",
    "thedir = '.../Geolife Trajectories 1.3/Data'\n",
    "dirlist = os.listdir(thedir)"
   ]
  },
  {
   "cell_type": "code",
   "execution_count": null,
   "metadata": {},
   "outputs": [],
   "source": [
    "# Creates an inventory of all the trajectories and puts it into a csv file\n",
    "\n",
    "from Scripts.traj_analysis import trajectory\n",
    "import csv, os, sys\n",
    "import pandas as pd\n",
    "from tqdm import tqdm\n",
    "\n",
    "dirs = [name for name in os.listdir(thedir) if os.path.isdir(os.path.join(thedir, name))]\n",
    "\n",
    "theTrajectories = []\n",
    "\n",
    "for direc in tqdm(dirs):\n",
    "\tprint('User:', direc)\n",
    "\ttrajdir = thedir + '/' + direc + '/Trajectory/'\n",
    "\tlabelStates = [name for name in os.listdir(trajdir) if os.path.isdir(os.path.join(trajdir, name))]\n",
    "\tfor labelState in tqdm(labelStates):\n",
    "\t\ttrajs = os.listdir(thedir + '/' + direc + '/Trajectory/' + labelState + '/')\n",
    "\t\tfor traj in tqdm(trajs):\n",
    "\t\t\tif traj != '.DS_Store':\n",
    "\t\t\t\tprint(traj)\n",
    "\t\t\t\tpath = thedir + '/' + direc + '/Trajectory/' + labelState + '/' + traj\n",
    "\t\t\t\tif os.path.getsize(path) > 1e6: # File-size criterion\n",
    "\t\t\t\t\tprint('Too large')\n",
    "\t\t\t\t\tcontinue\n",
    "\t\t\t\tt = trajectory(path)\n",
    "\t\t\t\tif (len(t.points)<20) or (t.time<0.5) or (t.time>90) or (t.len < 20): # Trajectory length/duration criterion\n",
    "\t\t\t\t\tprint('Too short/long')\n",
    "\t\t\t\t\tcontinue\n",
    "\t\t\t\tt.removeNoise()\n",
    "\t\t\t\tif t.trashy: # Trajectory quality criterion\n",
    "\t\t\t\t\tprint('Utter trash')\n",
    "\t\t\t\t\tcontinue\n",
    "\t\t\t\ttheTrajectories.append([direc + '/Trajectory/' + labelState + '/' + traj, labelState, t.time, t.len, len(t.points), t.crowLength(), t.pathCrowRatio(), t.coveredArea(), t.windowArea(), t.areaPerUnitL(), t.areaPerUnitT(), t.hurst(), t.angleDensS(), t.angleDensT(), t.transMode(), t.meanSpeed, t.lingering()])\n"
   ]
  },
  {
   "cell_type": "code",
   "execution_count": null,
   "metadata": {},
   "outputs": [],
   "source": [
    "paths = [traj[0] for traj in theTrajectories]\n",
    "labelStates = [traj[1] for traj in theTrajectories]\n",
    "times = [traj[2] for traj in theTrajectories]\n",
    "lengths = [traj[3] for traj in theTrajectories]\n",
    "pointCount = [traj[4] for traj in theTrajectories]\n",
    "crowLength = [traj[5] for traj in theTrajectories]\n",
    "pathCrowRatio = [traj[6] for traj in theTrajectories]\n",
    "coveredArea = [traj[7] for traj in theTrajectories]\n",
    "windowArea = [traj[8] for traj in theTrajectories]\n",
    "areaPerUnitL = [traj[9] for traj in theTrajectories]\n",
    "areaPerUnitT = [traj[10] for traj in theTrajectories]\n",
    "hurst = [traj[11] for traj in theTrajectories]\n",
    "angleDensS = [traj[12] for traj in theTrajectories]\n",
    "angleDensT = [traj[13] for traj in theTrajectories]\n",
    "transMode = [traj[14] for traj in theTrajectories]\n",
    "meanSpeed = [traj[15] for traj in theTrajectories]\n",
    "Cluster = [traj[16] for traj in theTrajectories]"
   ]
  },
  {
   "cell_type": "code",
   "execution_count": null,
   "metadata": {},
   "outputs": [],
   "source": [
    "df = pd.DataFrame({'Path':paths, 'Label-state':labelStates, 'Duration':times, 'Length':lengths, 'Point Count':pointCount, 'Crow Length':crowLength, 'Path-Crow Ratio':pathCrowRatio, 'Covered Area':coveredArea, 'Window Area':windowArea, 'Area/Length':areaPerUnitL, 'Area/Time':areaPerUnitT, 'Hurst Exponent':hurst, 'Turning-angle/Length':angleDensS, 'Turning-angle/Time':angleDensT, 'Mean Speed':meanSpeed, 'Mode of Transport':transMode, 'Cluster': Cluster})"
   ]
  },
  {
   "cell_type": "code",
   "execution_count": null,
   "metadata": {},
   "outputs": [],
   "source": [
    "df.to_csv('Final_CSV/trajFeatures.csv')"
   ]
  }
 ],
 "metadata": {
  "kernelspec": {
   "display_name": "Python 3",
   "language": "python",
   "name": "python3"
  },
  "language_info": {
   "codemirror_mode": {
    "name": "ipython",
    "version": 3
   },
   "file_extension": ".py",
   "mimetype": "text/x-python",
   "name": "python",
   "nbconvert_exporter": "python",
   "pygments_lexer": "ipython3",
   "version": "3.6.5"
  }
 },
 "nbformat": 4,
 "nbformat_minor": 2
}
