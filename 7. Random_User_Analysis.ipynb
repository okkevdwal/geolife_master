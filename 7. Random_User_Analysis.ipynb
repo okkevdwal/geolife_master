{
 "cells": [
  {
   "cell_type": "code",
   "execution_count": null,
   "metadata": {},
   "outputs": [],
   "source": [
    "from Scripts.user_analysis import user\n",
    "from Scripts.choose_random_user import randUsr\n",
    "from matplotlib import pyplot as plt\n",
    "import os"
   ]
  },
  {
   "cell_type": "code",
   "execution_count": null,
   "metadata": {},
   "outputs": [],
   "source": [
    "thedir = '.../Geolife Trajectories 1.3/Data'\n",
    "dirs = [name for name in os.listdir(thedir) if os.path.isdir(os.path.join(thedir, name))]"
   ]
  },
  {
   "cell_type": "markdown",
   "metadata": {},
   "source": [
    "### Random User"
   ]
  },
  {
   "cell_type": "code",
   "execution_count": null,
   "metadata": {},
   "outputs": [],
   "source": [
    "#u2 = randUsr(thedir) #for random user\n",
    "u2 = '/Users/okkevanderwal/Downloads/Geolife Trajectories 1.3/Data/170' #for specific user\n",
    "u3 = user(u2)\n",
    "print(u2,u3)"
   ]
  },
  {
   "cell_type": "code",
   "execution_count": null,
   "metadata": {
    "scrolled": true
   },
   "outputs": [],
   "source": [
    "u3.plotClusters()"
   ]
  },
  {
   "cell_type": "code",
   "execution_count": null,
   "metadata": {},
   "outputs": [],
   "source": [
    "array = u3.clusterLocs()\n",
    "array.mean()"
   ]
  },
  {
   "cell_type": "code",
   "execution_count": null,
   "metadata": {},
   "outputs": [],
   "source": [
    "u3.plotAllTrajs()\n",
    "plt.rcParams[\"figure.figsize\"] = [8,8]\n",
    "plt.xlim(-5000,5000)\n",
    "plt.ylim(-5000,5000)\n",
    "plt.show()"
   ]
  },
  {
   "cell_type": "code",
   "execution_count": null,
   "metadata": {},
   "outputs": [],
   "source": [
    "u3.startEnd_heatmap()\n",
    "plt.rcParams[\"figure.figsize\"] = [8,8]\n",
    "plt.xlim(-5000,5000)\n",
    "plt.ylim(-5000,5000)\n",
    "plt.show()"
   ]
  },
  {
   "cell_type": "code",
   "execution_count": null,
   "metadata": {},
   "outputs": [],
   "source": [
    "u3.modeInfo()"
   ]
  },
  {
   "cell_type": "markdown",
   "metadata": {},
   "source": [
    "Their activity over the full range of recording:"
   ]
  },
  {
   "cell_type": "code",
   "execution_count": null,
   "metadata": {},
   "outputs": [],
   "source": [
    "u3.dates_hist()\n",
    "plt.rcParams[\"figure.figsize\"] = [8,4]\n",
    "plt.show()"
   ]
  }
 ],
 "metadata": {
  "kernelspec": {
   "display_name": "Python 3",
   "language": "python",
   "name": "python3"
  },
  "language_info": {
   "codemirror_mode": {
    "name": "ipython",
    "version": 3
   },
   "file_extension": ".py",
   "mimetype": "text/x-python",
   "name": "python",
   "nbconvert_exporter": "python",
   "pygments_lexer": "ipython3",
   "version": "3.6.5"
  }
 },
 "nbformat": 4,
 "nbformat_minor": 2
}
